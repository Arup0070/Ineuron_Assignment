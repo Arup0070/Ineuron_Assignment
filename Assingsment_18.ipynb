{
 "cells": [
  {
   "cell_type": "markdown",
   "id": "d2e91c44",
   "metadata": {},
   "source": [
    "1. Create a zoo.py file first. Define the hours() function, which prints the string 'Open 9-5 daily'.\n",
    "    Then, use the interactive interpreter to import the zoo module and call its hours() function.\n",
    "\n"
   ]
  },
  {
   "cell_type": "code",
   "execution_count": 1,
   "id": "17bd9579",
   "metadata": {},
   "outputs": [
    {
     "name": "stdout",
     "output_type": "stream",
     "text": [
      "'Open 9-5 daily'\n"
     ]
    }
   ],
   "source": [
    "import zoo\n",
    "zoo.hours()"
   ]
  },
  {
   "cell_type": "markdown",
   "id": "7c0ab921",
   "metadata": {},
   "source": [
    "2. In the interactive interpreter, import the zoo module as menagerie and call its hours() function.\n"
   ]
  },
  {
   "cell_type": "code",
   "execution_count": 2,
   "id": "305573ec",
   "metadata": {},
   "outputs": [
    {
     "name": "stdout",
     "output_type": "stream",
     "text": [
      "'Open 9-5 daily'\n"
     ]
    }
   ],
   "source": [
    "import zoo as menagerie\n",
    "menagerie.hours()"
   ]
  },
  {
   "cell_type": "markdown",
   "id": "ee040273",
   "metadata": {},
   "source": [
    "3. Using the interpreter, explicitly import and call the hours() function from zoo.\n"
   ]
  },
  {
   "cell_type": "code",
   "execution_count": 3,
   "id": "14e71918",
   "metadata": {},
   "outputs": [
    {
     "name": "stdout",
     "output_type": "stream",
     "text": [
      "'Open 9-5 daily'\n"
     ]
    }
   ],
   "source": [
    "\n",
    "from zoo import hours\n",
    "hours()"
   ]
  },
  {
   "cell_type": "markdown",
   "id": "5df78d7e",
   "metadata": {},
   "source": [
    "4. Import the hours() function as info and call it.\n"
   ]
  },
  {
   "cell_type": "code",
   "execution_count": 4,
   "id": "d98eebd7",
   "metadata": {},
   "outputs": [
    {
     "name": "stdout",
     "output_type": "stream",
     "text": [
      "'Open 9-5 daily'\n"
     ]
    }
   ],
   "source": [
    "from zoo import hours as info\n",
    "info()\n"
   ]
  },
  {
   "cell_type": "markdown",
   "id": "48fdcf17",
   "metadata": {},
   "source": [
    "5. Create a plain dictionary with the key-value pairs 'a': 1, 'b': 2, 'c': 3, and print it out.\n"
   ]
  },
  {
   "cell_type": "code",
   "execution_count": 5,
   "id": "feb5726f",
   "metadata": {},
   "outputs": [
    {
     "data": {
      "text/plain": [
       "{'a': 1, 'b': 2, 'c': 3}"
      ]
     },
     "execution_count": 5,
     "metadata": {},
     "output_type": "execute_result"
    }
   ],
   "source": [
    "plain = {'a': 1, 'b': 2, 'c': 3}\n",
    "plain\n",
    "     "
   ]
  },
  {
   "cell_type": "markdown",
   "id": "7b4ccc48",
   "metadata": {},
   "source": [
    "6. Make an OrderedDict called fancy from the same pairs listed in 5 and print it. Did it print in the\n",
    "    same order as plain?\n"
   ]
  },
  {
   "cell_type": "code",
   "execution_count": 6,
   "id": "5727ca6b",
   "metadata": {},
   "outputs": [
    {
     "data": {
      "text/plain": [
       "OrderedDict([('a', 1), ('b', 2), ('c', 3)])"
      ]
     },
     "execution_count": 6,
     "metadata": {},
     "output_type": "execute_result"
    }
   ],
   "source": [
    "#yes\n",
    "from collections import OrderedDict\n",
    "fancy = OrderedDict([('a', 1), ('b', 2), ('c', 3)])\n",
    "fancy\n"
   ]
  },
  {
   "cell_type": "markdown",
   "id": "f68e3a4f",
   "metadata": {},
   "source": [
    "7. Make a defaultdict called dict_of_lists and pass it the argument list. Make the list dict_of_lists['a'] and append the value 'something for a' to it in one assignment. Print dict_of_lists['a']"
   ]
  },
  {
   "cell_type": "code",
   "execution_count": 7,
   "id": "9a172751",
   "metadata": {},
   "outputs": [
    {
     "data": {
      "text/plain": [
       "['something for a']"
      ]
     },
     "execution_count": 7,
     "metadata": {},
     "output_type": "execute_result"
    }
   ],
   "source": [
    "from collections import defaultdict\n",
    "dict_of_lists = defaultdict(list)\n",
    "dict_of_lists['a'].append('something for a')\n",
    "dict_of_lists['a']"
   ]
  },
  {
   "cell_type": "code",
   "execution_count": null,
   "id": "fba34439",
   "metadata": {},
   "outputs": [],
   "source": []
  }
 ],
 "metadata": {
  "kernelspec": {
   "display_name": "Python 3 (ipykernel)",
   "language": "python",
   "name": "python3"
  },
  "language_info": {
   "codemirror_mode": {
    "name": "ipython",
    "version": 3
   },
   "file_extension": ".py",
   "mimetype": "text/x-python",
   "name": "python",
   "nbconvert_exporter": "python",
   "pygments_lexer": "ipython3",
   "version": "3.10.11"
  }
 },
 "nbformat": 4,
 "nbformat_minor": 5
}
