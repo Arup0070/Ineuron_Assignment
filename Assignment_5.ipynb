{
 "cells": [
  {
   "cell_type": "markdown",
   "id": "4b89db40",
   "metadata": {},
   "source": [
    "What does an empty dictionary's code look like?\n"
   ]
  },
  {
   "cell_type": "markdown",
   "id": "a91a9745",
   "metadata": {},
   "source": [
    "dict1 = {}\n"
   ]
  },
  {
   "cell_type": "markdown",
   "id": "9ce94ff4",
   "metadata": {},
   "source": [
    "\n",
    "What is the value of a dictionary value with the key ['foo]' and the value 42?\n"
   ]
  },
  {
   "cell_type": "markdown",
   "id": "c739a6ed",
   "metadata": {},
   "source": [
    "{'foo': 42}\n",
    "\n"
   ]
  },
  {
   "cell_type": "markdown",
   "id": "d260b34e",
   "metadata": {},
   "source": [
    "What is the most significant distinction between a dictionary and a list?"
   ]
  },
  {
   "cell_type": "markdown",
   "id": "8a5495e1",
   "metadata": {},
   "source": [
    "The items stored in a dictionary are unordered. In list the items are ordered.\n",
    "\n"
   ]
  },
  {
   "cell_type": "markdown",
   "id": "ffd14e0b",
   "metadata": {},
   "source": [
    "What happens if you try to access spam['foo'] if spam is {'bar': 100}?\n"
   ]
  },
  {
   "cell_type": "markdown",
   "id": "01395edb",
   "metadata": {},
   "source": [
    "KeyError error.\n",
    "\n"
   ]
  },
  {
   "cell_type": "markdown",
   "id": "7b3c012e",
   "metadata": {},
   "source": [
    "If a dictionary is stored in spam, what is the difference between the expressions 'cat' in spam and 'cat' in spam.keys()?\n"
   ]
  },
  {
   "cell_type": "markdown",
   "id": "96b37850",
   "metadata": {},
   "source": [
    "There is no difference. The in operator checks whether a value exists as a key in the dictionary.\n",
    "\n"
   ]
  },
  {
   "cell_type": "markdown",
   "id": "c3e22a48",
   "metadata": {},
   "source": [
    "If a dictionary is stored in spam, what is the difference between the expressions 'cat' in spam and 'cat' in spam.values()?\n"
   ]
  },
  {
   "cell_type": "markdown",
   "id": "0f77aba7",
   "metadata": {},
   "source": [
    "'cat' in spam checks whether there is a 'cat' key in the dictionary, while 'cat' in spam.values() checks whether there is a value 'cat' for one of the keys in spam.\n"
   ]
  },
  {
   "cell_type": "markdown",
   "id": "4f861e56",
   "metadata": {},
   "source": [
    "\n",
    "What is a shortcut for the following code? if 'color' not in spam: spam['color'] = 'black'\n"
   ]
  },
  {
   "cell_type": "markdown",
   "id": "d659de74",
   "metadata": {},
   "source": [
    "spam.setdefault('color', 'black')\n",
    "\n"
   ]
  },
  {
   "cell_type": "markdown",
   "id": "7212f7bc",
   "metadata": {},
   "source": [
    "How do you \"pretty print\" dictionary values using which module and function?\n"
   ]
  },
  {
   "cell_type": "markdown",
   "id": "87f87e04",
   "metadata": {},
   "source": [
    "pprint.pprint()"
   ]
  },
  {
   "cell_type": "code",
   "execution_count": null,
   "id": "2d041766",
   "metadata": {},
   "outputs": [],
   "source": []
  }
 ],
 "metadata": {
  "kernelspec": {
   "display_name": "Python 3 (ipykernel)",
   "language": "python",
   "name": "python3"
  },
  "language_info": {
   "codemirror_mode": {
    "name": "ipython",
    "version": 3
   },
   "file_extension": ".py",
   "mimetype": "text/x-python",
   "name": "python",
   "nbconvert_exporter": "python",
   "pygments_lexer": "ipython3",
   "version": "3.10.2"
  }
 },
 "nbformat": 4,
 "nbformat_minor": 5
}
