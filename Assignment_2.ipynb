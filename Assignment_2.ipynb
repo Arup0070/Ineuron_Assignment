{
 "cells": [
  {
   "cell_type": "markdown",
   "id": "d99a30a0",
   "metadata": {},
   "source": [
    "1. What are the two values of the Boolean data type? How do you write them?\n"
   ]
  },
  {
   "cell_type": "markdown",
   "id": "db4dc0a0",
   "metadata": {},
   "source": [
    "It has two possible values: True and False \n",
    "It represented by 1 and 0 respectively."
   ]
  },
  {
   "cell_type": "markdown",
   "id": "5386de10",
   "metadata": {},
   "source": [
    "2. What are the three different types of Boolean operators?\n"
   ]
  },
  {
   "cell_type": "markdown",
   "id": "eb620029",
   "metadata": {},
   "source": [
    "The three basic boolean operators are: AND, OR and NOT."
   ]
  },
  {
   "cell_type": "markdown",
   "id": "3a0a2c1f",
   "metadata": {},
   "source": [
    "3. Make a list of each Boolean operator's truth tables (i.e. every possible combination of Boolean\n",
    "   values for the operator and what it evaluate ).\n"
   ]
  },
  {
   "cell_type": "code",
   "execution_count": null,
   "id": "e168864a",
   "metadata": {},
   "outputs": [],
   "source": [
    "   \n",
    "   AND\t\n",
    "A\tB\tO  \n",
    "0\t0\t0\n",
    "0\t1\t0\n",
    "1\t0\t0\n",
    "1\t1\t1\n",
    "\t\n",
    "    OR\t\n",
    "A\tB\tO\n",
    "0\t0\t0\n",
    "0\t1\t1\n",
    "1\t0\t1\n",
    "1\t1\t1\n",
    "\n",
    "  NOT\n",
    "A\tO\n",
    "0\t1\n",
    "1\t0\n",
    "\n"
   ]
  },
  {
   "cell_type": "markdown",
   "id": "6e7573d9",
   "metadata": {},
   "source": [
    "4. What are the values of the following expressions?"
   ]
  },
  {
   "cell_type": "code",
   "execution_count": 3,
   "id": "9bd0ee03",
   "metadata": {},
   "outputs": [
    {
     "name": "stdout",
     "output_type": "stream",
     "text": [
      "False\n",
      "False\n",
      "True\n",
      "False\n",
      "False\n",
      "True\n"
     ]
    }
   ],
   "source": [
    "print((5>4) and (3==5))\n",
    "print(not(5>4))\n",
    "print((5>4) or (3==5))\n",
    "print(not(5>4) or (3==5))\n",
    "print((True and True) and (True==False))\n",
    "print((not(False))or(not(True)))"
   ]
  },
  {
   "cell_type": "markdown",
   "id": "509f14f1",
   "metadata": {},
   "source": [
    "5. What are the six comparison operators?"
   ]
  },
  {
   "cell_type": "markdown",
   "id": "c761b6c8",
   "metadata": {},
   "source": [
    "==, !=, <, >, <=, >="
   ]
  },
  {
   "cell_type": "markdown",
   "id": "e33a7832",
   "metadata": {},
   "source": [
    "6. How do you tell the difference between the equal to and assignment operators?Describe a\n",
    "   condition and when you would use one.\n"
   ]
  },
  {
   "cell_type": "code",
   "execution_count": 5,
   "id": "ad23f98d",
   "metadata": {},
   "outputs": [
    {
     "name": "stdout",
     "output_type": "stream",
     "text": [
      "This will compare the value of c with 5\n",
      "10\n"
     ]
    }
   ],
   "source": [
    "\n",
    "c=5\n",
    "if c == 5:\n",
    "    print('This will compare the value of c with 5')\n",
    "c = 10 #this will assign c value as 10.\n",
    "print(c)\n"
   ]
  },
  {
   "cell_type": "markdown",
   "id": "cdde6cf5",
   "metadata": {},
   "source": [
    "7. Identify the three blocks in this code:\n"
   ]
  },
  {
   "cell_type": "code",
   "execution_count": 6,
   "id": "e5ddcb92",
   "metadata": {},
   "outputs": [
    {
     "name": "stdout",
     "output_type": "stream",
     "text": [
      "ham\n",
      "spam\n",
      "spam\n"
     ]
    }
   ],
   "source": [
    "spam = 0\n",
    "if spam == 10:\n",
    "    print('eggs') # This is Block 1\n",
    "if spam > 5:\n",
    "    print('bacon') #This is Block 2\n",
    "else:\n",
    "    print('ham') #This is Block 3\n",
    "    print('spam')\n",
    "    print('spam')\n"
   ]
  },
  {
   "cell_type": "markdown",
   "id": "817e54df",
   "metadata": {},
   "source": [
    "8. Write code that prints Hello if 1 is stored in spam, prints Howdy if 2 is stored in spam, and prints\n",
    "   Greetings! if anything else is stored in spam."
   ]
  },
  {
   "cell_type": "code",
   "execution_count": 10,
   "id": "34960c5b",
   "metadata": {},
   "outputs": [
    {
     "name": "stdout",
     "output_type": "stream",
     "text": [
      "Enter the Number: 65\n",
      "Greetings!\n"
     ]
    }
   ],
   "source": [
    "spam=int(input('Enter the Number: '))\n",
    "if spam == 1:\n",
    "         print('Hello')\n",
    "elif spam == 2:\n",
    "         print('Howdy')\n",
    "else :\n",
    "         print('Greetings!')"
   ]
  },
  {
   "cell_type": "markdown",
   "id": "a130448a",
   "metadata": {},
   "source": [
    "9.If your programme is stuck in an endless loop, what keys you’ll press?\n"
   ]
  },
  {
   "cell_type": "markdown",
   "id": "aa14ed79",
   "metadata": {},
   "source": [
    "ctrl+c."
   ]
  },
  {
   "cell_type": "markdown",
   "id": "af7320fa",
   "metadata": {},
   "source": [
    "10. How can you tell the difference between break and continue?\n"
   ]
  },
  {
   "cell_type": "code",
   "execution_count": 13,
   "id": "4734f538",
   "metadata": {},
   "outputs": [
    {
     "name": "stdout",
     "output_type": "stream",
     "text": [
      "65\n",
      "Break Triggered\n",
      "65\n",
      "98\n",
      "75\n",
      "97\n",
      "98\n",
      "86\n",
      "Continue Triggered so all elements will print\n"
     ]
    }
   ],
   "source": [
    "li=[65,98,75,97,98,86]\n",
    "for i in li:\n",
    "    print(i)\n",
    "    break\n",
    "    print(i+1)\n",
    "print('Break Triggered')\n",
    "for i in li:\n",
    "    print(i)\n",
    "    continue\n",
    "print('Continue Triggered so all elements will print')\n",
    "\n"
   ]
  },
  {
   "cell_type": "markdown",
   "id": "c910bbbd",
   "metadata": {},
   "source": [
    "11. In a for loop, what is the difference between range(10), range(0, 10), and range(0, 10, 1)?\n"
   ]
  },
  {
   "cell_type": "code",
   "execution_count": 17,
   "id": "e1a4ee0c",
   "metadata": {},
   "outputs": [
    {
     "name": "stdout",
     "output_type": "stream",
     "text": [
      "0\n",
      "1\n",
      "2\n",
      "3\n",
      "4\n",
      "5\n",
      "6\n",
      "7\n",
      "8\n",
      "9\n",
      "----------------\n",
      "0\n",
      "1\n",
      "2\n",
      "3\n",
      "4\n",
      "5\n",
      "6\n",
      "7\n",
      "8\n",
      "9\n",
      "----------------\n",
      "0\n",
      "1\n",
      "2\n",
      "3\n",
      "4\n",
      "5\n",
      "6\n",
      "7\n",
      "8\n",
      "9\n"
     ]
    }
   ],
   "source": [
    "for i in range(10):\n",
    "    print(i)\n",
    "print(\"----------------\")\n",
    "for i in range(0,10):\n",
    "    print(i)\n",
    "print(\"----------------\")\n",
    "for i in range(0,10,1):\n",
    "    print(i)\n",
    "#All three will work same the 1st argument is the start position middle one is the end+1 position and last one is counting by number."
   ]
  },
  {
   "cell_type": "markdown",
   "id": "e8b22479",
   "metadata": {},
   "source": [
    "12. Write a short program that prints the numbers 1 to 10 using a for loop. Then write an equivalent\n",
    "   program that prints the numbers 1 to 10 using a while loop.\n"
   ]
  },
  {
   "cell_type": "code",
   "execution_count": 26,
   "id": "ec74684c",
   "metadata": {},
   "outputs": [
    {
     "name": "stdout",
     "output_type": "stream",
     "text": [
      "0\n",
      "1\n",
      "2\n",
      "3\n",
      "4\n",
      "5\n",
      "6\n",
      "7\n",
      "8\n",
      "9\n",
      "10\n",
      "1\n",
      "2\n",
      "3\n",
      "4\n",
      "5\n",
      "6\n",
      "7\n",
      "8\n",
      "9\n",
      "10\n"
     ]
    }
   ],
   "source": [
    "i=1\n",
    "for i in range(11):\n",
    "    print(i)\n",
    "i=1\n",
    "while i <= 10:\n",
    "    print(i)\n",
    "    i+=1"
   ]
  },
  {
   "cell_type": "markdown",
   "id": "16b6cfb3",
   "metadata": {},
   "source": [
    "13. If you had a function named bacon() inside a module named spam, how would you call it after\n",
    "importing spam?"
   ]
  },
  {
   "cell_type": "markdown",
   "id": "1068942d",
   "metadata": {},
   "source": [
    "spam.bacon()"
   ]
  }
 ],
 "metadata": {
  "kernelspec": {
   "display_name": "Python 3 (ipykernel)",
   "language": "python",
   "name": "python3"
  },
  "language_info": {
   "codemirror_mode": {
    "name": "ipython",
    "version": 3
   },
   "file_extension": ".py",
   "mimetype": "text/x-python",
   "name": "python",
   "nbconvert_exporter": "python",
   "pygments_lexer": "ipython3",
   "version": "3.10.2"
  }
 },
 "nbformat": 4,
 "nbformat_minor": 5
}
