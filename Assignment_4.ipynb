{
 "cells": [
  {
   "cell_type": "markdown",
   "id": "5256d6e1",
   "metadata": {},
   "source": [
    "1. What exactly is []?\n"
   ]
  },
  {
   "cell_type": "markdown",
   "id": "1a792bd3",
   "metadata": {},
   "source": [
    "\n",
    "The empty list value, which is a list value that contains no items [] used for initialize a list."
   ]
  },
  {
   "cell_type": "markdown",
   "id": "e34e0236",
   "metadata": {},
   "source": [
    "2. In a list of values stored in a variable called spam, how would you assign the value &#39;hello&#39; as the\n",
    "third value? (Assume [2, 4, 6, 8, 10] are in spam.)\n",
    "Let's pretend the spam includes the list ['a', b', 'c', 'd'] for the next three queries.\n"
   ]
  },
  {
   "cell_type": "markdown",
   "id": "f081c005",
   "metadata": {},
   "source": [
    "spam[2]='hello'"
   ]
  },
  {
   "cell_type": "markdown",
   "id": "a5211aff",
   "metadata": {},
   "source": [
    "3. What is the value of spam[int(int('3' * 2) / 11)]?\n"
   ]
  },
  {
   "cell_type": "markdown",
   "id": "b52eb50d",
   "metadata": {},
   "source": [
    "'d'  as the value of the expression will be 3."
   ]
  },
  {
   "cell_type": "markdown",
   "id": "9d4f09d4",
   "metadata": {},
   "source": [
    "4. What is the value of spam[-1]?\n"
   ]
  },
  {
   "cell_type": "markdown",
   "id": "818ef91d",
   "metadata": {},
   "source": [
    "'d'"
   ]
  },
  {
   "cell_type": "markdown",
   "id": "a22978a7",
   "metadata": {},
   "source": [
    "5. What is the value of spam[:2]?\n",
    "Let's pretend bacon has the list [3.14, 'cat',11, 'cat', True] for the next three questions.\n"
   ]
  },
  {
   "cell_type": "markdown",
   "id": "9240d77c",
   "metadata": {},
   "source": [
    "['a','b']"
   ]
  },
  {
   "cell_type": "markdown",
   "id": "408e19d0",
   "metadata": {},
   "source": [
    "6. What is the value of bacon.index('cat')?\n"
   ]
  },
  {
   "cell_type": "markdown",
   "id": "b3b0852c",
   "metadata": {},
   "source": [
    "1"
   ]
  },
  {
   "cell_type": "markdown",
   "id": "76700d8b",
   "metadata": {},
   "source": [
    "7. How does bacon.append(99) change the look of the list value in bacon?\n"
   ]
  },
  {
   "cell_type": "markdown",
   "id": "31bd44a3",
   "metadata": {},
   "source": [
    "[3.14, 'cat',11, 'cat', True,99] "
   ]
  },
  {
   "cell_type": "markdown",
   "id": "7a006c49",
   "metadata": {},
   "source": [
    "8. How does bacon.remove('cat') change the look of the list in bacon?\n"
   ]
  },
  {
   "cell_type": "markdown",
   "id": "68e2677c",
   "metadata": {},
   "source": [
    "[3.14,11, 'cat', True,99]"
   ]
  },
  {
   "cell_type": "markdown",
   "id": "6c6c2248",
   "metadata": {},
   "source": [
    "9. What are the list concatenation and list replication operators?\n"
   ]
  },
  {
   "cell_type": "markdown",
   "id": "760db515",
   "metadata": {},
   "source": [
    "The operator for list concatenation is +, while the operator for replication is *."
   ]
  },
  {
   "cell_type": "markdown",
   "id": "d0988bd8",
   "metadata": {},
   "source": [
    "10. What is difference between the list methods append() and insert()?\n"
   ]
  },
  {
   "cell_type": "markdown",
   "id": "6b0618ba",
   "metadata": {},
   "source": [
    "append() and insert() is that insert function allows us to add a specific element at a specified index of the list unlike append() where we can add the element only at end of the list."
   ]
  },
  {
   "cell_type": "markdown",
   "id": "964f2979",
   "metadata": {},
   "source": [
    "11. What are the two methods for removing items from a list?\n"
   ]
  },
  {
   "cell_type": "markdown",
   "id": "2668faf8",
   "metadata": {},
   "source": [
    "pop() and remove()"
   ]
  },
  {
   "cell_type": "markdown",
   "id": "045f41c2",
   "metadata": {},
   "source": [
    "12. Describe how list values and string values are identical.\n"
   ]
  },
  {
   "cell_type": "markdown",
   "id": "41a1ab2f",
   "metadata": {},
   "source": [
    "Both strings and lists have lengths, a string's length is the number of characters in the string, a list's length is the number of items in the list. Each character in a string as well as each item in a list has a position, also called an index."
   ]
  },
  {
   "cell_type": "markdown",
   "id": "13d9f6ab",
   "metadata": {},
   "source": [
    "13. What's the difference between tuples and lists?\n"
   ]
  },
  {
   "cell_type": "markdown",
   "id": "23483652",
   "metadata": {},
   "source": [
    "Tuples are immutable as opposed to lists which are mutable. Therefore it is possible to change a list but not a tuple."
   ]
  },
  {
   "cell_type": "markdown",
   "id": "59d45d4f",
   "metadata": {},
   "source": [
    "14. How do you type a tuple value that only contains the integer 42?\n"
   ]
  },
  {
   "cell_type": "markdown",
   "id": "af30ed91",
   "metadata": {},
   "source": [
    "tup = (42)"
   ]
  },
  {
   "cell_type": "markdown",
   "id": "ef140f66",
   "metadata": {},
   "source": [
    "15. How do you get a list value's tuple form? How do you get a tuple value's list form?\n"
   ]
  },
  {
   "cell_type": "markdown",
   "id": "95a18c25",
   "metadata": {},
   "source": [
    "Useing tuple() and list() we can get a list value's tuple form and tuple value's list form respectively."
   ]
  },
  {
   "cell_type": "markdown",
   "id": "8a9246be",
   "metadata": {},
   "source": [
    "16. Variables that \"contain\" list values are not necessarily lists themselves. Instead, what do they\n",
    "contain?\n"
   ]
  },
  {
   "cell_type": "markdown",
   "id": "f5465cee",
   "metadata": {},
   "source": [
    "Variables will contain references to list values."
   ]
  },
  {
   "cell_type": "markdown",
   "id": "f7d74252",
   "metadata": {},
   "source": [
    "17. How do you distinguish between copy.copy() and copy.deepcopy()?"
   ]
  },
  {
   "cell_type": "markdown",
   "id": "24658be4",
   "metadata": {},
   "source": [
    "copy() create reference to original object. If you change copied object then you change the original object. \n",
    "deepcopy() creates new object and does real copying of original object to new one."
   ]
  },
  {
   "cell_type": "code",
   "execution_count": null,
   "id": "e68fffcb",
   "metadata": {},
   "outputs": [],
   "source": []
  }
 ],
 "metadata": {
  "kernelspec": {
   "display_name": "Python 3 (ipykernel)",
   "language": "python",
   "name": "python3"
  },
  "language_info": {
   "codemirror_mode": {
    "name": "ipython",
    "version": 3
   },
   "file_extension": ".py",
   "mimetype": "text/x-python",
   "name": "python",
   "nbconvert_exporter": "python",
   "pygments_lexer": "ipython3",
   "version": "3.10.2"
  }
 },
 "nbformat": 4,
 "nbformat_minor": 5
}
