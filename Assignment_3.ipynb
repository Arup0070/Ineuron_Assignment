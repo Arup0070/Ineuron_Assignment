{
 "cells": [
  {
   "cell_type": "markdown",
   "id": "973fabae",
   "metadata": {},
   "source": [
    "1. Why are functions advantageous to have in your programs?\n"
   ]
  },
  {
   "cell_type": "markdown",
   "id": "f2ffd674",
   "metadata": {},
   "source": [
    "By including functions, we can prevent repeating the same code block repeatedly in a program."
   ]
  },
  {
   "cell_type": "markdown",
   "id": "40b53e09",
   "metadata": {},
   "source": [
    "2. When does the code in a function run: when it's specified or when it's called?\n"
   ]
  },
  {
   "cell_type": "markdown",
   "id": "a2481654",
   "metadata": {},
   "source": [
    "When the function Called."
   ]
  },
  {
   "cell_type": "markdown",
   "id": "1dff5a3b",
   "metadata": {},
   "source": [
    "3. What statement creates a function?\n"
   ]
  },
  {
   "cell_type": "markdown",
   "id": "bb312b3e",
   "metadata": {},
   "source": [
    "def functionName():"
   ]
  },
  {
   "cell_type": "markdown",
   "id": "f100a5ae",
   "metadata": {},
   "source": [
    "4. What is the difference between a function and a function call?\n"
   ]
  },
  {
   "cell_type": "markdown",
   "id": "15ec9cb0",
   "metadata": {},
   "source": [
    "A function is a block of code that does a particular operation and returns a result.\n",
    "A function call is when a function called to do the work."
   ]
  },
  {
   "cell_type": "markdown",
   "id": "744d775e",
   "metadata": {},
   "source": [
    "5. How many global scopes are there in a Python program? How many local scopes?\n"
   ]
  },
  {
   "cell_type": "markdown",
   "id": "63070821",
   "metadata": {},
   "source": [
    "There's only one global Python scope per program execution.\n",
    "in Local scope there are two types enclosing,built-in."
   ]
  },
  {
   "cell_type": "markdown",
   "id": "e1a2e584",
   "metadata": {},
   "source": [
    "6. What happens to variables in a local scope when the function call returns?\n"
   ]
  },
  {
   "cell_type": "markdown",
   "id": "10e11dbf",
   "metadata": {},
   "source": [
    "Local Scope variables will destroyed."
   ]
  },
  {
   "cell_type": "markdown",
   "id": "4655084d",
   "metadata": {},
   "source": [
    "7. What is the concept of a return value? Is it possible to have a return value in an expression?\n"
   ]
  },
  {
   "cell_type": "markdown",
   "id": "c3a2b08d",
   "metadata": {},
   "source": [
    "The value that a function returns to the caller is generally known as the function's return value.\n",
    "Yes possible."
   ]
  },
  {
   "cell_type": "markdown",
   "id": "657e55f7",
   "metadata": {},
   "source": [
    "8. If a function does not have a return statement, what is the return value of a call to that function?\n"
   ]
  },
  {
   "cell_type": "markdown",
   "id": "24eb9876",
   "metadata": {},
   "source": [
    "That default return value will always be None."
   ]
  },
  {
   "cell_type": "markdown",
   "id": "693592bb",
   "metadata": {},
   "source": [
    "9. How do you make a function variable refer to the global variable?\n"
   ]
  },
  {
   "cell_type": "markdown",
   "id": "0c9ed7a4",
   "metadata": {},
   "source": [
    "To create a global variable inside a function we can use the 'global' keyword."
   ]
  },
  {
   "cell_type": "markdown",
   "id": "5fa20568",
   "metadata": {},
   "source": [
    "10. What is the data type of None?\n"
   ]
  },
  {
   "cell_type": "markdown",
   "id": "47159cd2",
   "metadata": {},
   "source": [
    "NoneType"
   ]
  },
  {
   "cell_type": "markdown",
   "id": "7a2edfcc",
   "metadata": {},
   "source": [
    "11. What does the sentence import areallyourpetsnamederic do?\n"
   ]
  },
  {
   "cell_type": "markdown",
   "id": "84a63a5c",
   "metadata": {},
   "source": [
    "That import statement imports a module named areallyourpetsnamederic."
   ]
  },
  {
   "cell_type": "markdown",
   "id": "f96281d7",
   "metadata": {},
   "source": [
    "12. If you had a bacon() feature in a spam module, what would you call it after importing spam?\n"
   ]
  },
  {
   "cell_type": "markdown",
   "id": "623d6cf0",
   "metadata": {},
   "source": [
    "spam.bacon()"
   ]
  },
  {
   "cell_type": "markdown",
   "id": "e09a7e91",
   "metadata": {},
   "source": [
    "13. What can you do to save a programme from crashing if it encounters an error?\n"
   ]
  },
  {
   "cell_type": "markdown",
   "id": "7eb75277",
   "metadata": {},
   "source": [
    "we have to use try and except to  handle the error."
   ]
  },
  {
   "cell_type": "markdown",
   "id": "cbdd90b4",
   "metadata": {},
   "source": [
    "14. What is the purpose of the try clause? What is the purpose of the except clause?"
   ]
  },
  {
   "cell_type": "markdown",
   "id": "625fed1f",
   "metadata": {},
   "source": [
    "Try clause check for any potential error in the code.\n",
    "The except block lets us handle the error."
   ]
  },
  {
   "cell_type": "code",
   "execution_count": null,
   "id": "1439a61e",
   "metadata": {},
   "outputs": [],
   "source": []
  }
 ],
 "metadata": {
  "kernelspec": {
   "display_name": "Python 3 (ipykernel)",
   "language": "python",
   "name": "python3"
  },
  "language_info": {
   "codemirror_mode": {
    "name": "ipython",
    "version": 3
   },
   "file_extension": ".py",
   "mimetype": "text/x-python",
   "name": "python",
   "nbconvert_exporter": "python",
   "pygments_lexer": "ipython3",
   "version": "3.10.2"
  }
 },
 "nbformat": 4,
 "nbformat_minor": 5
}
