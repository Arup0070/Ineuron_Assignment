{
 "cells": [
  {
   "cell_type": "markdown",
   "id": "e78dd1dd",
   "metadata": {},
   "source": [
    "1. In the below elements which of them are values or an expression? eg:- values can be\n",
    "integer or string and expressions will be mathematical operators.\n",
    "*\n",
    "'hello'\n",
    "-87.8\n",
    "-\n",
    "/\n",
    "+\n",
    "6"
   ]
  },
  {
   "cell_type": "markdown",
   "id": "fdacf823",
   "metadata": {},
   "source": [
    "-,/,+,* are Expressions\n",
    "'hello',-87.8,6 are Values"
   ]
  },
  {
   "cell_type": "markdown",
   "id": "68271cf0",
   "metadata": {},
   "source": [
    "2. What is the difference between string and variable?"
   ]
  },
  {
   "cell_type": "markdown",
   "id": "21462da1",
   "metadata": {},
   "source": [
    "Variable can Store Data or information.\n",
    "String is a type of Data."
   ]
  },
  {
   "cell_type": "markdown",
   "id": "d4f7158e",
   "metadata": {},
   "source": [
    "3. Describe three different data types."
   ]
  },
  {
   "cell_type": "markdown",
   "id": "57c33edf",
   "metadata": {},
   "source": [
    "*Int or Integer = used to define numeric variables holding whole numbers.\n",
    "*Float = Numeric data type for numbers with fractions.\n",
    "*String = It is a sequence of characters and the most commonly used data type to store text"
   ]
  },
  {
   "cell_type": "markdown",
   "id": "bf05edca",
   "metadata": {},
   "source": [
    "4. What is an expression made up of? What do all expressions do?\n"
   ]
  },
  {
   "cell_type": "markdown",
   "id": "03d3df9c",
   "metadata": {},
   "source": [
    "*An expression is a combination of operators and operands .\n",
    "*Expressions are Interpreted to produce some other value."
   ]
  },
  {
   "cell_type": "markdown",
   "id": "af4a7ab3",
   "metadata": {},
   "source": [
    "5. This assignment statements, like spam = 10. What is the difference between an\n",
    "   expression and a statement?\n"
   ]
  },
  {
   "cell_type": "markdown",
   "id": "bf07a8d2",
   "metadata": {},
   "source": [
    "*An expression will produce some king of output.\n",
    "*A Statement is a standalone unit of execution and doesn't return anything"
   ]
  },
  {
   "cell_type": "markdown",
   "id": "faa20737",
   "metadata": {},
   "source": [
    "6. After running the following code, what does the variable bacon contain?\n",
    "   bacon = 22\n",
    "   bacon + 1"
   ]
  },
  {
   "cell_type": "markdown",
   "id": "5b44a8b5",
   "metadata": {},
   "source": [
    "*It will contain value 22 .Cause we just increase the value but did't assign to the veriable."
   ]
  },
  {
   "cell_type": "markdown",
   "id": "0ae99ac6",
   "metadata": {},
   "source": [
    "\n",
    "7. What should the values of the following two terms be?\n",
    "    'spam' + 'spam'\n",
    "    'spam' * 3\n",
    "\n"
   ]
  },
  {
   "cell_type": "markdown",
   "id": "5bfb091d",
   "metadata": {},
   "source": [
    "*spamspam\n",
    "*spamspamspam"
   ]
  },
  {
   "cell_type": "markdown",
   "id": "2995d1e4",
   "metadata": {},
   "source": [
    "8. Why is eggs a valid variable name while 100 is invalid?"
   ]
  },
  {
   "cell_type": "markdown",
   "id": "a741f077",
   "metadata": {},
   "source": [
    "*A variable can't start with a number and a variable name can only contain alpha-numeric characters and underscores."
   ]
  },
  {
   "cell_type": "markdown",
   "id": "c0501d7a",
   "metadata": {},
   "source": [
    "9. What three functions can be used to get the integer, floating-point number, or string\n",
    "    version of a value?\n"
   ]
  },
  {
   "cell_type": "markdown",
   "id": "9266803f",
   "metadata": {},
   "source": [
    "*For  integer- int()\n",
    "*For floating-point number- float()\n",
    "*For string- str()"
   ]
  },
  {
   "cell_type": "markdown",
   "id": "a351e9b5",
   "metadata": {},
   "source": [
    "10. Why does this expression cause an error? How can you fix it?\n",
    "    'I have eaten' + 99 + 'burritos'"
   ]
  },
  {
   "cell_type": "markdown",
   "id": "bacb3f82",
   "metadata": {},
   "source": [
    "*The concatenation only support String .Integer can't be added with string."
   ]
  }
 ],
 "metadata": {
  "kernelspec": {
   "display_name": "Python 3 (ipykernel)",
   "language": "python",
   "name": "python3"
  },
  "language_info": {
   "codemirror_mode": {
    "name": "ipython",
    "version": 3
   },
   "file_extension": ".py",
   "mimetype": "text/x-python",
   "name": "python",
   "nbconvert_exporter": "python",
   "pygments_lexer": "ipython3",
   "version": "3.10.2"
  }
 },
 "nbformat": 4,
 "nbformat_minor": 5
}
