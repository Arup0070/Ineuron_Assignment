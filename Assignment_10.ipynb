{
 "cells": [
  {
   "cell_type": "markdown",
   "id": "45bc00ad",
   "metadata": {},
   "source": [
    "1. How do you distinguish between shutil.copy() and shutil.copytree()?\n",
    "\n",
    "Ans: The shutil.copy() function will copy a single file, while shutil.copytree() will copy an entire folder, along with all its contents.\n",
    "    \n",
    "2. What function is used to rename files??\n",
    "Ans: The shutil.move() function is used for renaming files, as well as moving them\n",
    "\n",
    "3. What is the difference between the delete functions in the send2trash and shutil modules?\n",
    "\n",
    "Ans: The send2trash functions will move a file or folder to the recycle bin, while shutil functions will permanently delete files and folders.\n",
    "\n",
    "4. ZipFile objects have a close() method just like File objects’ close() method. What ZipFile method is\n",
    "   equivalent to File objects’ open() method?\n",
    "Ans: The zipfile.ZipFile() function is equivalent to the open() function; the first argument is the filename, and the second argument is the mode to open the ZIP file in (read, write, or append).\n",
    "\n",
    "5. Create a programme that searches a folder tree for files with a certain file extension (such as .pdf\n",
    "    or .jpg). Copy these files from whatever location they are in to a new folder.\n",
    "    \n",
    "Ans: \n",
    "\n",
    "import os, shutil\n",
    "\n",
    "sourcePath = input('Enter the absolute path of the source folder: ')\n",
    "fileExtType = input('Enter the type of file to copy (such as .pdf or .jpg): ').lower()\n",
    "destPath = input('Enter the absolute path of the destination folder: ')\n",
    "\n",
    "for foldername, subfolders, filenames in os.walk(sourcePath):\n",
    "         for filename in filenames:\n",
    "                 if filename.lower().endswith(fileExtType):\n",
    "                         copySourcePath = os.path.join(foldername, filename)\n",
    "                         shutil.copy(copySourcePath, destPath)\n",
    "                 else:\n",
    "                         continue"
   ]
  }
 ],
 "metadata": {
  "kernelspec": {
   "display_name": "Python 3 (ipykernel)",
   "language": "python",
   "name": "python3"
  },
  "language_info": {
   "codemirror_mode": {
    "name": "ipython",
    "version": 3
   },
   "file_extension": ".py",
   "mimetype": "text/x-python",
   "name": "python",
   "nbconvert_exporter": "python",
   "pygments_lexer": "ipython3",
   "version": "3.10.11"
  }
 },
 "nbformat": 4,
 "nbformat_minor": 5
}
